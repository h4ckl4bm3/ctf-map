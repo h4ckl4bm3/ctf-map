{
 "cells": [
  {
   "cell_type": "code",
   "execution_count": 6,
   "metadata": {},
   "outputs": [],
   "source": [
    "import json\n",
    "\n",
    "def regionsToDB():\n",
    "    regions = {}\n",
    "    \n",
    "with open('regions.json', 'r') as inpfile:\n",
    "    regions = json.loads(inpfile.read())\n",
    "\n",
    "with open('regions.sql', 'w') as sqlfile:\n",
    "        for item,value in enumerate(regions):\n",
    "#             print(regions[value])\n",
    "                sqlfile.write(\"INSERT INTO regions (name, id) VALUES ('{}', {});\\n\"\n",
    "                         .format(regions[value], value[6:]))\n",
    "\n",
    "# def regionsFromDB():\n",
    "def generateJSON():\n",
    "    regions = {}\n",
    "    teams = {}\n",
    "    cups = {}\n",
    "    out = {}\n",
    "    \n",
    "    with open('db/regions.json', 'r') as inpfile:\n",
    "        regions = json.loads(inpfile.read())['RECORDS']\n",
    "    with open('db/teams.json', 'r') as inpfile:\n",
    "        teams   = json.loads(inpfile.read())['RECORDS']\n",
    "    with open('db/contests.json', 'r') as inpfile:\n",
    "        cups    = json.loads(inpfile.read())['RECORDS']\n",
    "    for region in regions:\n",
    "#         print(region['id'])\n",
    "        r_teams = list(filter(lambda x: int(x['region']) == int(region['id']), teams))\n",
    "        r_cups  = list(filter(lambda x: int(x['region']) == int(region['id']), cups))\n",
    "     #   print(r_teams)\n",
    "#         tst = list(i['name'] for i in r_teams)\n",
    "#         print(tst)\n",
    "        tmp = {\n",
    "            'name' : region['name'],\n",
    "            'team_list' : ', '.join(list(i['name'] for i in r_teams)),\n",
    "            'cup_list'  : ', '.join(list(i['name'] for i in r_cups)),\n",
    "            'teams' : r_teams,\n",
    "            'cups' : r_cups\n",
    "        }\n",
    "        out['region'+region['id']] = tmp\n",
    "#         out.append(tmp)\n",
    "    with open('api.json', 'w') as outfile:\n",
    "        json.dump(out, outfile, indent=4, sort_keys=True, ensure_ascii=False)\n",
    "\n",
    "if __name__ == \"__main__\":\n",
    "    #regionsToDB()\n",
    "    generateJSON()\n",
    "    "
   ]
  },
  {
   "cell_type": "code",
   "execution_count": null,
   "metadata": {
    "collapsed": true
   },
   "outputs": [],
   "source": []
  },
  {
   "cell_type": "code",
   "execution_count": null,
   "metadata": {
    "collapsed": true
   },
   "outputs": [],
   "source": []
  }
 ],
 "metadata": {
  "kernelspec": {
   "display_name": "Python 3",
   "language": "python",
   "name": "python3"
  },
  "language_info": {
   "codemirror_mode": {
    "name": "ipython",
    "version": 3
   },
   "file_extension": ".py",
   "mimetype": "text/x-python",
   "name": "python",
   "nbconvert_exporter": "python",
   "pygments_lexer": "ipython3",
   "version": "3.6.1"
  }
 },
 "nbformat": 4,
 "nbformat_minor": 2
}
