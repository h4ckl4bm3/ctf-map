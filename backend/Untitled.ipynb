{
 "cells": [
  {
   "cell_type": "code",
   "execution_count": 16,
   "metadata": {
    "collapsed": false
   },
   "outputs": [
    {
     "name": "stdout",
     "output_type": "stream",
     "text": [
      "98\n"
     ]
    }
   ],
   "source": [
    "import requests\n",
    "import json\n",
    "\n",
    "# r = requests.get('https://ctftime.org/api/v1/teams/')\n",
    "\n",
    "# with open('teams.json', 'w') as outfile:\n",
    "#     json.dump(r.json(), outfile)\n",
    "\n",
    "result = {}\n",
    "with open('teams.json', 'r') as inpfile:\n",
    "    result = json.loads(inpfile.read())\n",
    "\n",
    "out = []\n",
    "with open('teams_ru_academic.json', 'w') as outfile:\n",
    "    for team in result:\n",
    "        if team['country'] == \"RU\" and team['academic']:\n",
    "            out.append(team)\n",
    "    print(len(out))\n",
    "    json.dump(out, outfile)\n",
    "            \n",
    "            \n"
   ]
  },
  {
   "cell_type": "code",
   "execution_count": 66,
   "metadata": {
    "collapsed": false
   },
   "outputs": [
    {
     "name": "stdout",
     "output_type": "stream",
     "text": [
      "{'disband': 2017, 'created': 2012, 'img': '/media/cache/11/10/111020f48af6bcfb142408127425a031.png', 'name': 'ufologists', 'ctftime_id': 469}\n",
      "{'disband': 2017, 'created': 2012, 'img': '/media/cache/70/67/7067c2cb7d4405e3402ee5c43f74eb6a.png', 'name': 'Koibasta', 'ctftime_id': 496}\n",
      "{'disband': 2017, 'created': 2012, 'img': '/media/cache/47/e2/47e235e5c8440faa6ec0e9d623b9094c.png', 'name': 'HackerDom', 'ctftime_id': 552}\n",
      "{'disband': 2017, 'created': 2012, 'img': '/media/cache/96/f1/96f1f87647e6bb21988c2a956fdf1f61.png', 'name': 'SiBears', 'ctftime_id': 557}\n",
      "{'disband': 2017, 'created': 2012, 'img': '/media/cache/ae/a1/aea12b8790469eb082614036bd5ce76e.png', 'name': '[censored]', 'ctftime_id': 558}\n",
      "{'disband': 2017, 'created': 2012, 'img': '/media/cache/58/c0/58c02e9b9f56995c8980ff5b51a13510.png', 'name': 'Bushwhackers', 'ctftime_id': 586}\n",
      "{'disband': 2014, 'created': 2012, 'img': '/media/cache/03/14/0314b2f4785ad1bcf637df0cc10618c9.png', 'name': 'Headump', 'ctftime_id': 1411}\n",
      "{'disband': 2017, 'created': 2012, 'img': '/media/cache/ba/04/ba0474c91b6e3ad58155ae0bf659e40d.png', 'name': 'keva', 'ctftime_id': 2980}\n",
      "{'disband': 2016, 'created': 2013, 'img': '/static/images/nologo.png', 'name': 'Hardc0de', 'ctftime_id': 3335}\n",
      "{'disband': 2017, 'created': 2013, 'img': '/media/cache/48/c5/48c55625f01e0c5dbf86083a8db0aabe.png', 'name': 'v0rt3x', 'ctftime_id': 3906}\n",
      "{'disband': 2017, 'created': 2013, 'img': '/media/cache/08/40/0840fa0faae23cf0acd2ea84aa24738e.png', 'name': 'SUSlo.PAS', 'ctftime_id': 6502}\n",
      "{'disband': 2017, 'created': 2013, 'img': '/static/images/nologo.png', 'name': 'Cerberus', 'ctftime_id': 6516}\n",
      "{'disband': 2017, 'created': 2012, 'img': '/media/cache/a8/e2/a8e2e235bd9dbda508a149af2ec1d5ff.png', 'name': 'ITCrowd', 'ctftime_id': 6540}\n",
      "{'disband': 2014, 'created': 2013, 'img': '/media/cache/31/46/31462e15440fedd1f4467b51c8549262.png', 'name': 'The one team', 'ctftime_id': 6545}\n",
      "{'disband': 2014, 'created': 2014, 'img': '/static/images/nologo.png', 'name': 'SUSlo.dump', 'ctftime_id': 7930}\n",
      "{'disband': 2017, 'created': 2014, 'img': '/media/cache/22/dc/22dc28c078a91b99337bd9dcecccc4ba.png', 'name': 'Lights Out', 'ctftime_id': 7931}\n",
      "{'disband': 2014, 'created': 2014, 'img': '/static/images/nologo.png', 'name': 'place your ad here', 'ctftime_id': 7938}\n",
      "{'disband': 2017, 'created': 2016, 'img': '/static/images/nologo.png', 'name': 'IBAS', 'ctftime_id': 8165}\n",
      "{'disband': 2017, 'created': 2014, 'img': '/media/cache/c6/40/c64085cf681babbfe70c4cb5cb56b307.png', 'name': 'Curiosity', 'ctftime_id': 8751}\n",
      "{'disband': 2014, 'created': 2014, 'img': '/static/images/nologo.png', 'name': 'CIDA', 'ctftime_id': 9136}\n",
      "{'disband': 2016, 'created': 2014, 'img': '/static/images/nologo.png', 'name': 'ked', 'ctftime_id': 10175}\n",
      "{'disband': 2016, 'created': 2014, 'img': '/static/images/nologo.png', 'name': 'Aple', 'ctftime_id': 10180}\n",
      "{'disband': 2014, 'created': 2014, 'img': '/static/images/nologo.png', 'name': 'Flying Crocs', 'ctftime_id': 11389}\n",
      "{'disband': 2016, 'created': 2014, 'img': '/static/images/nologo.png', 'name': 'Search Flag Agency', 'ctftime_id': 11391}\n",
      "{'disband': 2014, 'created': 2014, 'img': '/static/images/nologo.png', 'name': 'ZumZoom', 'ctftime_id': 11467}\n",
      "{'disband': 2014, 'created': 2014, 'img': '/static/images/nologo.png', 'name': 'vnp_obsujdaem', 'ctftime_id': 11850}\n",
      "{'disband': 2015, 'created': 2014, 'img': '/static/images/nologo.png', 'name': 'JoyTeam', 'ctftime_id': 12601}\n",
      "{'disband': 2017, 'created': 2015, 'img': '/static/images/nologo.png', 'name': 'CLASSIFIED', 'ctftime_id': 13603}\n",
      "{'disband': 2015, 'created': 2015, 'img': '/static/images/nologo.png', 'name': '0-day', 'ctftime_id': 14052}\n",
      "{'disband': 2017, 'created': 2015, 'img': '/media/cache/33/27/3327dae91263ffa5211b8c8bf96d3816.png', 'name': 'ThunderClap', 'ctftime_id': 16125}\n",
      "{'disband': 2017, 'created': 2015, 'img': '/media/cache/f3/a5/f3a52c1a14c6deb3b5efd43ba355a3db.png', 'name': 'SharLike', 'ctftime_id': 16172}\n",
      "{'disband': 2015, 'created': 2015, 'img': '/static/images/nologo.png', 'name': 'Pi bits of RSA', 'ctftime_id': 16814}\n",
      "{'disband': 2015, 'created': 2015, 'img': '/media/cache/3a/f3/3af351aa98167df4181bf7cc752409c5.png', 'name': 'ni4osi', 'ctftime_id': 16834}\n",
      "{'disband': 2015, 'created': 2015, 'img': '/media/cache/30/8f/308fbf9b937d4bd0ff204ea2bc867fcb.png', 'name': 'Undefinded Keys', 'ctftime_id': 17705}\n",
      "{'disband': 2016, 'created': 2015, 'img': '/static/images/nologo.png', 'name': 'KXTI_4', 'ctftime_id': 19048}\n",
      "{'disband': 2017, 'created': 2015, 'img': '/media/cache/e5/78/e5786b5dd5dcec0ce3802c31afacf00f.png', 'name': 'Shadow Servants', 'ctftime_id': 20740}\n",
      "{'disband': 2015, 'created': 2015, 'img': '/static/images/nologo.png', 'name': 'HOV', 'ctftime_id': 20747}\n",
      "{'disband': 2015, 'created': 2015, 'img': '/static/images/nologo.png', 'name': 'Lalochka', 'ctftime_id': 20770}\n",
      "{'disband': 2017, 'created': 2015, 'img': '/media/cache/b5/4c/b54c6074c2dc1dedf53db4f48af19ba3.png', 'name': 'Corrupted Reflection', 'ctftime_id': 20904}\n",
      "{'disband': 2016, 'created': 2015, 'img': '/media/cache/87/6f/876fdbd8534e9617d8c21b96cccf2125.png', 'name': 'bicycle_overdrive', 'ctftime_id': 20907}\n",
      "{'disband': 2017, 'created': 2015, 'img': '/media/cache/2a/3d/2a3d9b4ea4f739a4a63c3324dbfc2eca.png', 'name': 'VoidHack', 'ctftime_id': 21137}\n",
      "{'disband': 2017, 'created': 2016, 'img': '/media/cache/4e/2e/4e2e164aeec88d1df92b33a5335dba7a.png', 'name': 'Espacio', 'ctftime_id': 22038}\n",
      "{'disband': 2016, 'created': 2016, 'img': '/static/images/nologo.png', 'name': 'a1exdandy', 'ctftime_id': 22049}\n",
      "{'disband': 2016, 'created': 2016, 'img': '/media/cache/88/66/88668990274bc61ebf1c5999454f3c1d.png', 'name': 'MSTUCA', 'ctftime_id': 22331}\n",
      "{'disband': 2017, 'created': 2016, 'img': '/static/images/nologo.png', 'name': 'MITHT', 'ctftime_id': 24067}\n",
      "{'disband': 2016, 'created': 2016, 'img': '/static/images/nologo.png', 'name': 'Hexistence', 'ctftime_id': 24354}\n",
      "{'disband': 2016, 'created': 2016, 'img': '/static/images/nologo.png', 'name': 'NoJava', 'ctftime_id': 24700}\n",
      "{'disband': 2016, 'created': 2016, 'img': '/static/images/nologo.png', 'name': 'homies', 'ctftime_id': 26257}\n",
      "{'disband': 2016, 'created': 2016, 'img': '/media/cache/d1/ff/d1ffdd8f1b536932b0ef00946df89c62.png', 'name': 'COTIP', 'ctftime_id': 26660}\n",
      "{'disband': 2016, 'created': 2016, 'img': '/static/images/nologo.png', 'name': 'StonedPanda', 'ctftime_id': 26713}\n",
      "{'disband': 2016, 'created': 2016, 'img': '/static/images/nologo.png', 'name': 'motherhackers', 'ctftime_id': 27433}\n",
      "{'disband': 2016, 'created': 2016, 'img': '/media/cache/fd/15/fd154827310a1e20b7c13c12ac68b403.png', 'name': 'mereana', 'ctftime_id': 27477}\n",
      "{'disband': 2016, 'created': 2016, 'img': '/media/cache/d4/32/d432fda2d3428a0ef4b85138451bd97b.png', 'name': 'Dragon116rus', 'ctftime_id': 29586}\n",
      "{'disband': 2017, 'created': 2016, 'img': '/static/images/nologo.png', 'name': 'TeamWithSuchNameAlreadyExists', 'ctftime_id': 29798}\n",
      "{'disband': 2017, 'created': 2016, 'img': '/media/cache/26/a2/26a2178e25841d10421c5ef28be16001.png', 'name': 'E-Vapers', 'ctftime_id': 29953}\n",
      "{'disband': 2017, 'created': 2016, 'img': '/static/images/nologo.png', 'name': 'B04Ka::G3ng', 'ctftime_id': 29975}\n",
      "{'disband': 2017, 'created': 2016, 'img': '/static/images/nologo.png', 'name': 'KXTI', 'ctftime_id': 30087}\n",
      "{'disband': 2016, 'created': 2016, 'img': '/media/cache/41/69/4169833590d2cc202a0fac41e851784b.png', 'name': 'bdd', 'ctftime_id': 30547}\n",
      "{'disband': 2016, 'created': 2016, 'img': '/static/images/nologo.png', 'name': 'preceq', 'ctftime_id': 30766}\n",
      "{'disband': 2016, 'created': 2016, 'img': '/media/cache/64/a2/64a27516afd56b9aba08882555fd810f.png', 'name': 'HattiTatti', 'ctftime_id': 31297}\n",
      "{'disband': 2016, 'created': 2016, 'img': '/static/images/nologo.png', 'name': 'tiger_team_24\\\\7', 'ctftime_id': 31366}\n",
      "{'disband': 2016, 'created': 2016, 'img': '/media/cache/fb/29/fb29c554d4b438f2f2e34054b75635f7.png', 'name': 'Cracking Ducks', 'ctftime_id': 31514}\n",
      "{'disband': 2016, 'created': 2016, 'img': '/static/images/nologo.png', 'name': 'Ten-strike', 'ctftime_id': 31680}\n",
      "{'disband': 2016, 'created': 2016, 'img': '/static/images/nologo.png', 'name': 'MSHP SSL: The X Firm', 'ctftime_id': 31685}\n",
      "{'disband': 2017, 'created': 2016, 'img': '/static/images/nologo.png', 'name': 'Переподвысмотрит', 'ctftime_id': 32124}\n",
      "{'disband': 2017, 'created': 2016, 'img': '/media/cache/51/6a/516ac6a64cf8a099edbc53cdf30fa5fd.png', 'name': 'Super Massive Black Full-Metall Bacon Pancakes with Apple Jam', 'ctftime_id': 32509}\n",
      "{'disband': 2016, 'created': 2016, 'img': '/static/images/nologo.png', 'name': 'Поплосеры', 'ctftime_id': 32604}\n",
      "{'disband': 2017, 'created': 2017, 'img': '/media/cache/17/d7/17d72fe28fed5e2e5d6405d07b8e0332.png', 'name': 'CalicemPulmenti', 'ctftime_id': 32789}\n",
      "{'disband': 2017, 'created': 2017, 'img': '/static/images/nologo.png', 'name': 'CTD Elite', 'ctftime_id': 34465}\n",
      "{'disband': 2017, 'created': 2017, 'img': '/media/cache/ce/06/ce067daeef374e787bfce16e2b3d84de.png', 'name': 'd34dl1n3', 'ctftime_id': 35562}\n",
      "{'disband': 2017, 'created': 2017, 'img': '/static/images/nologo.png', 'name': 'KitKot', 'ctftime_id': 35585}\n",
      "{'disband': 2017, 'created': 2017, 'img': '/static/images/nologo.png', 'name': 'Civil Defence', 'ctftime_id': 35596}\n",
      "{'disband': 2017, 'created': 2017, 'img': '/media/cache/31/ba/31ba3a95d087cb033d21cd8b15c18721.png', 'name': 'MosPolytech', 'ctftime_id': 39619}\n"
     ]
    }
   ],
   "source": [
    "import re\n",
    "import urllib.request\n",
    "result = {}\n",
    "with open('teams_ru_academic.json', 'r') as inpfile:\n",
    "    result = json.loads(inpfile.read())\n",
    "\n",
    "pattern = re.compile('\\<img src\\=\\\"(.+)?\" width=\"(.+)?\" height=\"(.+)?\">')\n",
    "teams = []\n",
    "\n",
    "for team in result:\n",
    "    out = {}\n",
    "    years = []\n",
    "    r1 = requests.get('https://ctftime.org/team/' + str(team['id']))\n",
    "    r2 = requests.get('https://ctftime.org/api/v1/teams/' + str(team['id']) + '/')\n",
    "    \n",
    "    kek = pattern.findall(r1.text)\n",
    "    api_team = r2.json()\n",
    "\n",
    "    if len(api_team['rating']) == 0:\n",
    "        continue\n",
    "    for i, val in enumerate(api_team['rating']):\n",
    "        for i2, val2 in enumerate(val):\n",
    "            years.append(int(val2))\n",
    "    if len(kek) == 1:\n",
    "        out['ctftime_img'] = kek[0][0]\n",
    "    else: \n",
    "        out['ctftime_img'] = '/static/images/nologo.png'\n",
    "    out['img'] = team['teams/' + team['name'] + '.png']\n",
    "    out['name'] = team['name']\n",
    "    out['ctftime_id'] = team['id']']\n",
    "    out['city'] = ''\n",
    "    out['description'] = ''\n",
    "    out['site'] = ''\n",
    "    out['contacts'] = ''\n",
    "    out['disband'] = max(years)\n",
    "    out['created'] = min(years)\n",
    "    teams.append(out)\n",
    "    \n",
    "    if out['img'] != '/static/images/nologo.png':\n",
    "        urllib.request.urlretrieve(\"https://ctftime.org/\" + out['img'], 'teams/' + team['name'] + '.png')\n",
    "    print(out)\n",
    "with open('teams_ru_academic_parsed.json', 'w') as outfile:\n",
    "    json.dump(teams, outfile)"
   ]
  },
  {
   "cell_type": "code",
   "execution_count": null,
   "metadata": {
    "collapsed": true
   },
   "outputs": [],
   "source": []
  }
 ],
 "metadata": {
  "anaconda-cloud": {},
  "kernelspec": {
   "display_name": "Python [conda root]",
   "language": "python",
   "name": "conda-root-py"
  },
  "language_info": {
   "codemirror_mode": {
    "name": "ipython",
    "version": 3
   },
   "file_extension": ".py",
   "mimetype": "text/x-python",
   "name": "python",
   "nbconvert_exporter": "python",
   "pygments_lexer": "ipython3",
   "version": "3.5.2"
  }
 },
 "nbformat": 4,
 "nbformat_minor": 1
}
