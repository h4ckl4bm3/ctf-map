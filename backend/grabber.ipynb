{
 "cells": [
  {
   "cell_type": "code",
   "execution_count": null,
   "metadata": {
    "collapsed": false
   },
   "outputs": [],
   "source": [
    "import requests\n",
    "import json\n",
    "\n",
    "# r = requests.get('https://ctftime.org/api/v1/teams/')\n",
    "\n",
    "# with open('teams.json', 'w') as outfile:\n",
    "#     json.dump(r.json(), outfile)\n",
    "\n",
    "result = {}\n",
    "with open('teams.json', 'r') as inpfile:\n",
    "    result = json.loads(inpfile.read())\n",
    "\n",
    "out = []\n",
    "with open('teams_ru.json', 'w') as outfile:\n",
    "    for team in result:\n",
    "        if team['country'] == \"RU\": # and team['academic']:\n",
    "            out.append(team)\n",
    "#     print(len(out))\n",
    "    json.dump(out, outfile, indent=4, sort_keys=True)\n",
    "            \n",
    "            \n"
   ]
  },
  {
   "cell_type": "code",
   "execution_count": 1,
   "metadata": {
    "collapsed": false
   },
   "outputs": [],
   "source": [
    "import re\n",
    "import os\n",
    "import urllib.request\n",
    "import json\n",
    "import requests\n",
    "\n",
    "result = {}\n",
    "with open('teams_ru.json', 'r') as inpfile:\n",
    "    result = json.loads(inpfile.read())\n",
    "\n",
    "pattern = re.compile('\\<img src\\=\\\"(.+)?\" width=\"(.+)?\" height=\"(.+)?\">')\n",
    "teams = []\n",
    "\n",
    "for team in result:\n",
    "    out = {}\n",
    "    years = []\n",
    "    r1 = requests.get('https://ctftime.org/team/{}'.format(str(team['id'])))\n",
    "    r2 = requests.get('https://ctftime.org/api/v1/teams/{}/'.format(str(team['id'])))\n",
    "    \n",
    "    kek = pattern.findall(r1.text)\n",
    "    api_team = r2.json()\n",
    "\n",
    "    if len(api_team['rating']) == 0:\n",
    "        continue\n",
    "    for i, val in enumerate(api_team['rating']):\n",
    "        for i2, val2 in enumerate(val):\n",
    "            years.append(int(val2))\n",
    "    if len(kek) == 1:\n",
    "        out['ctftime_logo'] = \"https://ctftime.org/{}\".format(kek[0][0])\n",
    "    else: \n",
    "        out['ctftime_logo'] = \"https://ctftime.org/static/images/nologo.png\"\n",
    "    out['logo'] = 'teams/{}.png'.format(str(team['id']))\n",
    "    out['name'] = team['name']\n",
    "    out['ctftime_id'] = team['id']\n",
    "    out['city'] = ''\n",
    "    out['info'] = ''\n",
    "    out['site'] = ''\n",
    "    out['contacts'] = ''\n",
    "    out['titles'] = ''\n",
    "    out['coures'] = False\n",
    "    out['academic'] = team['academic']\n",
    "    out['disband'] = max(years)\n",
    "    out['created'] = min(years)\n",
    "    teams.append(out)\n",
    "    \n",
    "    if 'nologo.png' not in out['ctftime_logo'] and not os.path.exists(out['logo']):\n",
    "        urllib.request.urlretrieve(out['ctftime_logo'], out['logo'])\n",
    "        \n",
    "    team['name']\n",
    "#     print(out)\n",
    "with open('teams_ru_parsed.json', 'w') as outfile:\n",
    "#     simplejson.dumps(simplejson.loads(output), indent=4, sort_keys=True)\n",
    "    json.dump(teams, outfile, indent=4, sort_keys=True)"
   ]
  },
  {
   "cell_type": "code",
   "execution_count": null,
   "metadata": {
    "collapsed": true
   },
   "outputs": [],
   "source": []
  },
  {
   "cell_type": "code",
   "execution_count": null,
   "metadata": {
    "collapsed": true
   },
   "outputs": [],
   "source": []
  }
 ],
 "metadata": {
  "anaconda-cloud": {},
  "kernelspec": {
   "display_name": "Python [conda root]",
   "language": "python",
   "name": "conda-root-py"
  },
  "language_info": {
   "codemirror_mode": {
    "name": "ipython",
    "version": 3
   },
   "file_extension": ".py",
   "mimetype": "text/x-python",
   "name": "python",
   "nbconvert_exporter": "python",
   "pygments_lexer": "ipython3",
   "version": "3.5.2"
  }
 },
 "nbformat": 4,
 "nbformat_minor": 1
}
